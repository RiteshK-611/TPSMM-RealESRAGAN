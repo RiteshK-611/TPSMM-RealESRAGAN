{
  "cells": [
    {
      "cell_type": "markdown",
      "metadata": {
        "id": "IJfvyyiF4y5X"
      },
      "source": [
        "# **Thin Plate Spline Motion Model + Real-ESRGAN Infernece**\n",
        "\n",
        "**Credit**:\n",
        "\n",
        "- Thin Plate Spline Motion Model - https://github.com/yoyo-nb/Thin-Plate-Spline-Motion-Model\n",
        "\n",
        "- Real-ESRGAN Inference - https://github.com/xinntao/Real-ESRGAN\n",
        "\n",
        "Thin Plate Spline Motion Model + Real-ESRGAN Infernece - https://github.com/RiteshK-611/TPSMM-RealESRGAN"
      ]
    },
    {
      "cell_type": "markdown",
      "metadata": {
        "id": "Bg20CsXRUKHs"
      },
      "source": [
        "# Setup Thin Plate Spline Motion Model"
      ]
    },
    {
      "cell_type": "code",
      "execution_count": null,
      "metadata": {
        "colab": {
          "base_uri": "https://localhost:8080/"
        },
        "id": "aws1Hlyu9xrT",
        "outputId": "7eb13c9a-53e8-4a60-beb2-7fc64be2aebc"
      },
      "outputs": [],
      "source": [
        "!git clone https://github.com/RiteshK-611/TPSMM-RealESRGAN.git\n",
        "basePath = \"/content/TPSMM-RealESRGAN\"\n",
        "%cd {basePath}"
      ]
    },
    {
      "cell_type": "code",
      "execution_count": null,
      "metadata": {
        "id": "p3xUkoJaIV7L"
      },
      "outputs": [],
      "source": [
        "tpsmmFolder = 'Thin-Plate-Spline-Motion-Model_main'\n",
        "realesrganFolder = 'Real-ESRGAN_main'\n",
        "tpsmmPath = basePath + '/' + tpsmmFolder\n",
        "realesrganPath = basePath + '/' + realesrganFolder"
      ]
    },
    {
      "cell_type": "code",
      "execution_count": null,
      "metadata": {
        "colab": {
          "base_uri": "https://localhost:8080/"
        },
        "id": "tQoP6nh_FGmH",
        "outputId": "48e76766-6b5d-423d-866d-f51fb34c6588"
      },
      "outputs": [],
      "source": [
        "%cd {tpsmmFolder}\n",
        "!mkdir checkpoints\n",
        "# Download Model\n",
        "!wget -c https://cloud.tsinghua.edu.cn/f/da8d61d012014b12a9e4/?dl=1 -O checkpoints/vox.pth.tar\n",
        "#!wget -c https://cloud.tsinghua.edu.cn/f/483ef53650b14ac7ae70/?dl=1 -O checkpoints/ted.pth.tar\n",
        "#!wget -c https://cloud.tsinghua.edu.cn/f/9ec01fa4aaef423c8c02/?dl=1 -O checkpoints/taichi.pth.tar\n",
        "#!wget -c https://cloud.tsinghua.edu.cn/f/cd411b334a2e49cdb1e2/?dl=1 -O checkpoints/mgif.pth.tar"
      ]
    },
    {
      "cell_type": "code",
      "execution_count": null,
      "metadata": {
        "id": "_1YMZxuDHcPe"
      },
      "outputs": [],
      "source": [
        "import torch\n",
        "import os\n",
        "\n",
        "# edit the config\n",
        "device = torch.device('cuda:0')\n",
        "dataset_name = 'vox' # ['vox', 'taichi', 'ted', 'mgif']\n",
        "output_path = basePath + '/outputs'\n",
        "source_image_path = basePath + '/inputs/source.png'\n",
        "driving_video_path = basePath + '/inputs/driving.mp4'\n",
        "output_video_path = basePath + '/outputs/generated.mp4'\n",
        "config_path = tpsmmPath + '/config/vox-256.yaml'\n",
        "checkpoint_path = tpsmmPath + '/checkpoints/vox.pth.tar'\n",
        "predict_mode = 'relative' # ['standard', 'relative', 'avd']\n",
        "find_best_frame = False # when use the relative mode to animate a face, use 'find_best_frame=True' can get better quality result\n",
        "\n",
        "if not os.path.exists(output_path):\n",
        "  os.makedirs(output_path)\n",
        "\n",
        "pixel = 256 # for vox, taichi and mgif, the resolution is 256*256\n",
        "if(dataset_name == 'ted'): # for ted, the resolution is 384*384\n",
        "    pixel = 384\n",
        "\n",
        "if find_best_frame:\n",
        "  !pip install face_alignment"
      ]
    },
    {
      "cell_type": "markdown",
      "metadata": {
        "id": "O5nPKfBBCn4U"
      },
      "source": [
        "# Visualize"
      ]
    },
    {
      "cell_type": "code",
      "execution_count": null,
      "metadata": {
        "colab": {
          "base_uri": "https://localhost:8080/",
          "height": 622
        },
        "id": "buuCZcGKARnp",
        "outputId": "5d39cf1b-3bc8-495e-b2a6-399bc314c5ea"
      },
      "outputs": [],
      "source": [
        "try:\n",
        "  import imageio\n",
        "  import imageio_ffmpeg\n",
        "except:\n",
        "  !pip install imageio_ffmpeg\n",
        "import numpy as np\n",
        "import matplotlib.pyplot as plt\n",
        "import matplotlib.animation as animation\n",
        "from skimage.transform import resize\n",
        "from IPython.display import HTML\n",
        "import warnings\n",
        "import os\n",
        "\n",
        "warnings.filterwarnings(\"ignore\")\n",
        "\n",
        "source_image = imageio.imread(source_image_path)\n",
        "reader = imageio.get_reader(driving_video_path)\n",
        "\n",
        "source_image = resize(source_image, (pixel, pixel))[..., :3]\n",
        "\n",
        "fps = reader.get_meta_data()['fps']\n",
        "driving_video = []\n",
        "try:\n",
        "    for im in reader:\n",
        "        driving_video.append(im)\n",
        "except RuntimeError:\n",
        "    pass\n",
        "reader.close()\n",
        "\n",
        "driving_video = [resize(frame, (pixel, pixel))[..., :3] for frame in driving_video]\n",
        "\n",
        "def display(source, driving, generated=None):\n",
        "    fig = plt.figure(figsize=(8 + 4 * (generated is not None), 6))\n",
        "\n",
        "    ims = []\n",
        "    for i in range(len(driving)):\n",
        "        cols = [source]\n",
        "        cols.append(driving[i])\n",
        "        if generated is not None:\n",
        "            cols.append(generated[i])\n",
        "        im = plt.imshow(np.concatenate(cols, axis=1), animated=True)\n",
        "        plt.axis('off')\n",
        "        ims.append([im])\n",
        "\n",
        "    ani = animation.ArtistAnimation(fig, ims, interval=50, repeat_delay=1000)\n",
        "    plt.close()\n",
        "    return ani\n",
        "\n",
        "\n",
        "HTML(display(source_image, driving_video).to_html5_video())"
      ]
    },
    {
      "cell_type": "code",
      "execution_count": null,
      "metadata": {
        "id": "RyX8fH7sCObj"
      },
      "outputs": [],
      "source": [
        "from demo import load_checkpoints\n",
        "inpainting, kp_detector, dense_motion_network, avd_network = load_checkpoints(config_path = config_path, checkpoint_path = checkpoint_path, device = device)"
      ]
    },
    {
      "cell_type": "code",
      "execution_count": null,
      "metadata": {
        "colab": {
          "base_uri": "https://localhost:8080/",
          "height": 659
        },
        "id": "o84sOb7JCSY2",
        "outputId": "959d37e4-a877-46c8-f54b-09ebdc41fe0f"
      },
      "outputs": [],
      "source": [
        "from demo import make_animation\n",
        "from skimage import img_as_ubyte\n",
        "\n",
        "if predict_mode=='relative' and find_best_frame:\n",
        "    from demo import find_best_frame as _find\n",
        "    i = _find(source_image, driving_video, device.type=='cpu')\n",
        "    print (\"Best frame: \" + str(i))\n",
        "    driving_forward = driving_video[i:]\n",
        "    driving_backward = driving_video[:(i+1)][::-1]\n",
        "    predictions_forward = make_animation(source_image, driving_forward, inpainting, kp_detector, dense_motion_network, avd_network, device = device, mode = predict_mode)\n",
        "    predictions_backward = make_animation(source_image, driving_backward, inpainting, kp_detector, dense_motion_network, avd_network, device = device, mode = predict_mode)\n",
        "    predictions = predictions_backward[::-1] + predictions_forward[1:]\n",
        "else:\n",
        "    predictions = make_animation(source_image, driving_video, inpainting, kp_detector, dense_motion_network, avd_network, device = device, mode = predict_mode)\n",
        "\n",
        "#save resulting video\n",
        "imageio.mimsave(output_video_path, [img_as_ubyte(frame) for frame in predictions], fps=fps)\n",
        "\n",
        "HTML(display(source_image, driving_video, predictions).to_html5_video())"
      ]
    },
    {
      "cell_type": "code",
      "execution_count": null,
      "metadata": {
        "colab": {
          "base_uri": "https://localhost:8080/",
          "height": 622
        },
        "id": "rFM-3EoAVMuQ",
        "outputId": "a4a716d0-f18d-4300-ba59-cab9dda874b3"
      },
      "outputs": [],
      "source": [
        "from IPython.display import HTML\n",
        "from base64 import b64encode\n",
        "\n",
        "def show_video(video_path, video_width = 600):\n",
        "\n",
        "  video_file = open(video_path, \"r+b\").read()\n",
        "\n",
        "  video_url = f\"data:video/mp4;base64,{b64encode(video_file).decode()}\"\n",
        "  return HTML(f\"\"\"<video width={video_width} controls><source src=\"{video_url}\"></video>\"\"\")\n",
        "\n",
        "# output video\n",
        "show_video(output_video_path)"
      ]
    },
    {
      "cell_type": "markdown",
      "metadata": {
        "id": "q2l5iyHIxXm_"
      },
      "source": [
        "# Download Animated Video"
      ]
    },
    {
      "cell_type": "code",
      "execution_count": null,
      "metadata": {
        "colab": {
          "base_uri": "https://localhost:8080/",
          "height": 17
        },
        "id": "_OifV8jCxTJ2",
        "outputId": "45722450-a969-436e-a666-8652deaeb1dd"
      },
      "outputs": [],
      "source": [
        "from google.colab import files\n",
        "# Download the results\n",
        "files.download(output_video_path)"
      ]
    },
    {
      "cell_type": "markdown",
      "metadata": {
        "id": "hGRN81Jl7Wpn"
      },
      "source": [
        "# Setup Real-ESRGAN Inference"
      ]
    },
    {
      "cell_type": "code",
      "execution_count": null,
      "metadata": {
        "id": "2hdOY8Qj7vjT"
      },
      "outputs": [],
      "source": [
        "%cd ../Real-ESRGAN_main\n",
        "\n",
        "!pip install basicsr\n",
        "!pip install facexlib\n",
        "!pip install gfpgan\n",
        "!pip install ffmpeg-python\n",
        "!pip install -r requirements.txt\n",
        "!python setup.py develop\n",
        "%cd ..\n",
        "\n",
        "inputVideoFile = f'{output_path}/generated.mp4'\n",
        "outputVideoFile = f'{output_path}/enhanced.mp4'"
      ]
    },
    {
      "cell_type": "markdown",
      "metadata": {
        "id": "cyF6baC0v44b"
      },
      "source": [
        "# Inference"
      ]
    },
    {
      "cell_type": "code",
      "execution_count": null,
      "metadata": {
        "colab": {
          "base_uri": "https://localhost:8080/"
        },
        "id": "g49AEdcr_smY",
        "outputId": "222e32be-35eb-4f81-8491-94c1477fddde"
      },
      "outputs": [],
      "source": [
        "! python Real-ESRGAN_main/inference_realesrgan_video.py -i {inputVideoFile} -o {output_path} -n realesr-animevideov3 -s 2 -suffix out\n",
        " # Argements\n",
        " # -i, --input: input video\n",
        " # -i, --output: output video\n",
        " # -n, --model_name: Used model name\n",
        " # -s, --outscale: Scale\n",
        " # -suffix: Suffix of the output video"
      ]
    },
    {
      "cell_type": "markdown",
      "metadata": {
        "id": "6ZqzSrKmBld2"
      },
      "source": [
        "# Visualize Videos"
      ]
    },
    {
      "cell_type": "code",
      "execution_count": null,
      "metadata": {
        "colab": {
          "base_uri": "https://localhost:8080/",
          "height": 579
        },
        "id": "0iiIRso8Bmoj",
        "outputId": "5ce8691b-114d-4498-a10d-6c8b5a174b04"
      },
      "outputs": [],
      "source": [
        "from IPython.display import HTML\n",
        "from base64 import b64encode\n",
        "import os\n",
        "\n",
        "os.rename(f'{output_path}/generated_out.mp4', outputVideoFile)\n",
        "\n",
        "html_str=\"\"\n",
        "filepaths=[inputVideoFile, outputVideoFile]\n",
        "\n",
        "for filepath in filepaths:\n",
        "  width = 500\n",
        "  mp4 = open(filepath,'rb').read()\n",
        "  data_url = \"data:video/mp4;base64,\" + b64encode(mp4).decode()\n",
        "  title = \"Generated\" if filepath == inputVideoFile else \"Enhanced\"\n",
        "  html_str += f\"\"\"\n",
        "  <div style=\"text-align: center;\">\n",
        "    <h1>{title}</h1>\n",
        "    <video width={width} controls>\n",
        "          <source src={data_url} type=\"video/mp4\">\n",
        "    </video>\n",
        "  </div>\n",
        "  \"\"\"\n",
        "HTML(f\"\"\"<div style=\"display:flex; justify-content:space-evenly\">{html_str}</div>\"\"\")"
      ]
    },
    {
      "cell_type": "markdown",
      "metadata": {
        "id": "nKH0syu9ZAwV"
      },
      "source": [
        "# Download Enhanced Video\n"
      ]
    },
    {
      "cell_type": "code",
      "execution_count": null,
      "metadata": {
        "colab": {
          "base_uri": "https://localhost:8080/",
          "height": 17
        },
        "id": "lHNHoP8PZJQ7",
        "outputId": "1a8a1e71-15cd-4e5e-eb7f-fe085a3757cb"
      },
      "outputs": [],
      "source": [
        "from google.colab import files\n",
        "# Download the results\n",
        "files.download(outputVideoFile)"
      ]
    }
  ],
  "metadata": {
    "accelerator": "GPU",
    "colab": {
      "gpuType": "T4",
      "provenance": []
    },
    "kernelspec": {
      "display_name": "Python 3",
      "name": "python3"
    },
    "language_info": {
      "name": "python"
    }
  },
  "nbformat": 4,
  "nbformat_minor": 0
}
